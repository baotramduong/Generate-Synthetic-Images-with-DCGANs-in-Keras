{
  "nbformat": 4,
  "nbformat_minor": 0,
  "metadata": {
    "accelerator": "GPU",
    "colab": {
      "name": "DCGAN.ipynb",
      "provenance": [],
      "collapsed_sections": [],
      "toc_visible": true
    },
    "kernelspec": {
      "display_name": "Python 3",
      "language": "python",
      "name": "python3"
    },
    "language_info": {
      "codemirror_mode": {
        "name": "ipython",
        "version": 3
      },
      "file_extension": ".py",
      "mimetype": "text/x-python",
      "name": "python",
      "nbconvert_exporter": "python",
      "pygments_lexer": "ipython3",
      "version": "3.6.8"
    }
  },
  "cells": [
    {
      "cell_type": "markdown",
      "metadata": {
        "colab_type": "text",
        "id": "cnX0atWNppA3"
      },
      "source": [
        "<h2 align=center>Generate Synthetic Images with DCGANs in Keras</h2>"
      ]
    },
    {
      "cell_type": "markdown",
      "metadata": {
        "colab_type": "text",
        "id": "AY-qM-4swLUb"
      },
      "source": [
        "## Task 1: Project Overview and Import Libraries"
      ]
    },
    {
      "cell_type": "code",
      "metadata": {
        "colab_type": "code",
        "id": "bhqrEV6hkFC3",
        "colab": {}
      },
      "source": [
        "%matplotlib inline\n",
        "import tensorflow as tf\n",
        "from tensorflow import keras\n",
        "import numpy as np\n",
        "import plot_utils\n",
        "import matplotlib.pyplot as plt\n",
        "from tqdm import tqdm\n",
        "print('Tensorflow version:', tf.__version__)"
      ],
      "execution_count": 0,
      "outputs": []
    },
    {
      "cell_type": "markdown",
      "metadata": {
        "colab_type": "text",
        "id": "bRT9FVAdwUDP"
      },
      "source": [
        "## Task 2: Load and Preprocess the Data"
      ]
    },
    {
      "cell_type": "code",
      "metadata": {
        "colab_type": "code",
        "id": "9g2aKYa9kG1Q",
        "colab": {}
      },
      "source": [
        "(x_train, y_train), (x_test, y_test) = tf.keras.datasets.fashion_mnist.load_data()\n",
        "x_train = x_train.astype(np.float32) / 255.0\n",
        "x_test = x_test.astype(np.float32) / 255.0"
      ],
      "execution_count": 0,
      "outputs": []
    },
    {
      "cell_type": "code",
      "metadata": {
        "id": "UFEwYL2HJ5no",
        "colab_type": "code",
        "colab": {}
      },
      "source": [
        "plt.figure(figsize=(10,10))\n",
        "for i in range(25):\n",
        "    plt.subplot(5,5,i+1)\n",
        "    plt.xticks([])\n",
        "    plt.yticks([])\n",
        "    plt.grid(False)\n",
        "    plt.imshow(x_train[i], cmap=plt.cm.binary)\n",
        "plt.show()"
      ],
      "execution_count": 0,
      "outputs": []
    },
    {
      "cell_type": "markdown",
      "metadata": {
        "colab_type": "text",
        "id": "_B6mV5YZw_p7"
      },
      "source": [
        "## Task 3: Create Batches of Training Data"
      ]
    },
    {
      "cell_type": "code",
      "metadata": {
        "colab_type": "code",
        "id": "oqwFFyrFkG7b",
        "colab": {}
      },
      "source": [
        "batch_size = 32\n",
        "# This dataset fills a buffer with buffer_size elements, \n",
        "#then randomly samples elements from this buffer, replacing the selected elements with new elements.\n",
        "dataset = tf.data.Dataset.from_tensor_slices(x_train).shuffle(1000)\n",
        "#Combines consecutive elements of this dataset into batches.\n",
        "dataset = dataset.batch(batch_size, drop_remainder=True).prefetch(1)\n",
        "#Creates a Dataset that prefetches elements from this dataset"
      ],
      "execution_count": 0,
      "outputs": []
    },
    {
      "cell_type": "markdown",
      "metadata": {
        "colab_type": "text",
        "id": "w5qOeWQDxp7A"
      },
      "source": [
        "## Task 4: Build the Generator Network for DCGAN"
      ]
    },
    {
      "cell_type": "markdown",
      "metadata": {
        "id": "e4qXzYgEs4RR",
        "colab_type": "text"
      },
      "source": [
        "![GAN](DCGAN.png)"
      ]
    },
    {
      "cell_type": "code",
      "metadata": {
        "id": "E_Pz36D9T3dp",
        "colab_type": "code",
        "colab": {}
      },
      "source": [
        "num_features = 100\n",
        "\n",
        "generator = keras.models.Sequential([\n",
        "    keras.layers.Dense(7 * 7 * 128, input_shape=[num_features]),\n",
        "    keras.layers.Reshape([7, 7, 128]),\n",
        "    keras.layers.BatchNormalization(),\n",
        "    keras.layers.Conv2DTranspose(64, (5,5), (2,2), padding=\"same\", activation=\"selu\"),\n",
        "    keras.layers.BatchNormalization(),\n",
        "    keras.layers.Conv2DTranspose(1, (5,5), (2,2), padding=\"same\", activation=\"tanh\"),\n",
        "])"
      ],
      "execution_count": 0,
      "outputs": []
    },
    {
      "cell_type": "code",
      "metadata": {
        "id": "PMihRHcHT3hU",
        "colab_type": "code",
        "colab": {}
      },
      "source": [
        "noise = tf.random.normal(shape=[1, num_features])\n",
        "generated_images = generator(noise, training=False)\n",
        "plot_utils.show(generated_images, 1)"
      ],
      "execution_count": 0,
      "outputs": []
    },
    {
      "cell_type": "markdown",
      "metadata": {
        "id": "rMUiBeXhVMWf",
        "colab_type": "text"
      },
      "source": [
        "## Tak 5: Build the Discriminator Network for DCGAN"
      ]
    },
    {
      "cell_type": "code",
      "metadata": {
        "colab_type": "code",
        "id": "LNoA-K62kHEI",
        "colab": {}
      },
      "source": [
        "discriminator = keras.models.Sequential([\n",
        "    keras.layers.Conv2D(64, (5,5), (2,2), padding=\"same\", input_shape=[28, 28, 1]),\n",
        "    keras.layers.LeakyReLU(0.2),\n",
        "    keras.layers.Dropout(0.3),\n",
        "    keras.layers.Conv2D(128, (5,5), (2,2), padding=\"same\"),\n",
        "    keras.layers.LeakyReLU(0.2),\n",
        "    keras.layers.Dropout(0.3),\n",
        "    keras.layers.Flatten(),\n",
        "    keras.layers.Dense(1, activation='sigmoid')\n",
        "])"
      ],
      "execution_count": 0,
      "outputs": []
    },
    {
      "cell_type": "code",
      "metadata": {
        "id": "z8NRrD1WUYeb",
        "colab_type": "code",
        "colab": {}
      },
      "source": [
        "decision = discriminator(generated_images)\n",
        "print(decision)"
      ],
      "execution_count": 0,
      "outputs": []
    },
    {
      "cell_type": "markdown",
      "metadata": {
        "id": "gjkSFNGGVT4I",
        "colab_type": "text"
      },
      "source": [
        "## Task 6: Compile the Deep Convolutional Generative Adversarial Network (DCGAN)"
      ]
    },
    {
      "cell_type": "code",
      "metadata": {
        "colab_type": "code",
        "id": "DOpPAq_ckHHz",
        "colab": {}
      },
      "source": [
        "discriminator.compile(loss=\"binary_crossentropy\", optimizer=\"rmsprop\")\n",
        "discriminator.trainable = False\n",
        "gan = keras.models.Sequential([generator, discriminator])\n",
        "gan.compile(loss=\"binary_crossentropy\", optimizer=\"rmsprop\")"
      ],
      "execution_count": 0,
      "outputs": []
    },
    {
      "cell_type": "markdown",
      "metadata": {
        "colab_type": "text",
        "id": "nKJzwn3ExORM"
      },
      "source": [
        "## Task 7: Define Training Procedure"
      ]
    },
    {
      "cell_type": "code",
      "metadata": {
        "id": "Ic76LI4xfGPD",
        "colab_type": "code",
        "colab": {}
      },
      "source": [
        "from IPython import display\n",
        "from tqdm import tqdm\n",
        "seed = tf.random.normal(shape=[batch_size, 100])"
      ],
      "execution_count": 0,
      "outputs": []
    },
    {
      "cell_type": "code",
      "metadata": {
        "id": "RX-t-8XmlemS",
        "colab_type": "code",
        "colab": {}
      },
      "source": [
        "from tqdm import tqdm\n",
        "def train_dcgan(gan, dataset, batch_size, num_features, epochs=5):\n",
        "    generator, discriminator = gan.layers\n",
        "    for epoch in tqdm(range(epochs)):\n",
        "        print(\"Epoch {}/{}\".format(epoch + 1, epochs))\n",
        "        for X_batch in dataset:\n",
        "            noise = tf.random.normal(shape=[batch_size, num_features])\n",
        "            generated_images = generator(noise)\n",
        "            X_fake_and_real = tf.concat([generated_images, X_batch], axis=0)\n",
        "            y1 = tf.constant([[0.]] * batch_size + [[1.]] * batch_size)\n",
        "            discriminator.trainable = True\n",
        "            discriminator.train_on_batch(X_fake_and_real, y1)\n",
        "            noise = tf.random.normal(shape=[batch_size, num_features])\n",
        "            y2 = tf.constant([[1.]] * batch_size)\n",
        "            discriminator.trainable = False\n",
        "            gan.train_on_batch(noise, y2)\n",
        "            # Produce images for the GIF as we go\n",
        "        display.clear_output(wait=True)\n",
        "        generate_and_save_images(generator, epoch + 1, seed)\n",
        "        \n",
        "    display.clear_output(wait=True)\n",
        "    generate_and_save_images(generator, epochs, seed)"
      ],
      "execution_count": 0,
      "outputs": []
    },
    {
      "cell_type": "code",
      "metadata": {
        "id": "NDbSHgN5gVT0",
        "colab_type": "code",
        "colab": {}
      },
      "source": [
        "## Source https://www.tensorflow.org/tutorials/generative/dcgan#create_a_gif\n",
        "def generate_and_save_images(model, epoch, test_input):\n",
        "  # Notice `training` is set to False.\n",
        "  # This is so all layers run in inference mode (batchnorm).\n",
        "  predictions = model(test_input, training=False)\n",
        "\n",
        "  fig = plt.figure(figsize=(10,10))\n",
        "\n",
        "  for i in range(25):\n",
        "      plt.subplot(5, 5, i+1)\n",
        "      plt.imshow(predictions[i, :, :, 0] * 127.5 + 127.5, cmap='binary')\n",
        "      plt.axis('off')\n",
        "\n",
        "  plt.savefig('image_at_epoch_{:04d}.png'.format(epoch))\n",
        "  plt.show()"
      ],
      "execution_count": 0,
      "outputs": []
    },
    {
      "cell_type": "markdown",
      "metadata": {
        "colab_type": "text",
        "id": "Ehb_zChMyMms"
      },
      "source": [
        "## Task 8: Train DCGAN"
      ]
    },
    {
      "cell_type": "code",
      "metadata": {
        "colab_type": "code",
        "id": "WIttFRtEkHKA",
        "colab": {}
      },
      "source": [
        "x_train_dcgan = x_train.reshape(-1, 28, 28, 1) * 2. - 1."
      ],
      "execution_count": 0,
      "outputs": []
    },
    {
      "cell_type": "code",
      "metadata": {
        "colab_type": "code",
        "id": "EK6oZ_3ekHNP",
        "colab": {}
      },
      "source": [
        "batch_size = 32\n",
        "dataset = tf.data.Dataset.from_tensor_slices(x_train_dcgan)\n",
        "dataset = dataset.shuffle(1000)\n",
        "dataset = dataset.batch(batch_size, drop_remainder=True).prefetch(1)"
      ],
      "execution_count": 0,
      "outputs": []
    },
    {
      "cell_type": "code",
      "metadata": {
        "colab_type": "code",
        "id": "r8VXDKHikHO0",
        "colab": {}
      },
      "source": [
        "%%time\n",
        "train_dcgan(gan, dataset, batch_size, num_features, epochs=10)"
      ],
      "execution_count": 0,
      "outputs": []
    },
    {
      "cell_type": "markdown",
      "metadata": {
        "colab_type": "text",
        "id": "gToylYoE6Rw4"
      },
      "source": [
        "## Task 9: Generate Synthetic Images with DCGAN"
      ]
    },
    {
      "cell_type": "code",
      "metadata": {
        "colab_type": "code",
        "id": "Lbr9e1gvkHVW",
        "colab": {}
      },
      "source": [
        "noise = tf.random.normal(shape=[batch_size, num_features])\n",
        "generated_images = generator(noise)\n",
        "plot_utils.show(generated_images, 8)"
      ],
      "execution_count": 0,
      "outputs": []
    },
    {
      "cell_type": "code",
      "metadata": {
        "id": "6Orl5VXTbnQ9",
        "colab_type": "code",
        "colab": {}
      },
      "source": [
        "## Source: https://www.tensorflow.org/tutorials/generative/dcgan#create_a_gif\n",
        "import imageio\n",
        "import glob\n",
        "\n",
        "anim_file = 'dcgan.gif'\n",
        "\n",
        "with imageio.get_writer(anim_file, mode='I') as writer:\n",
        "  filenames = glob.glob('image*.png')\n",
        "  filenames = sorted(filenames)\n",
        "  last = -1\n",
        "  for i,filename in enumerate(filenames):\n",
        "    frame = 2*(i)\n",
        "    if round(frame) > round(last):\n",
        "      last = frame\n",
        "    else:\n",
        "      continue\n",
        "    image = imageio.imread(filename)\n",
        "    writer.append_data(image)\n",
        "  image = imageio.imread(filename)\n",
        "  writer.append_data(image)\n",
        "\n",
        "import IPython\n",
        "display.Image(filename=anim_file)"
      ],
      "execution_count": 0,
      "outputs": []
    },
    {
      "cell_type": "code",
      "metadata": {
        "id": "MLy2L7uYlA_1",
        "colab_type": "code",
        "colab": {}
      },
      "source": [
        ""
      ],
      "execution_count": 0,
      "outputs": []
    },
    {
      "cell_type": "code",
      "metadata": {
        "id": "bS9CH6IjlBDH",
        "colab_type": "code",
        "colab": {}
      },
      "source": [
        ""
      ],
      "execution_count": 0,
      "outputs": []
    }
  ]
}
